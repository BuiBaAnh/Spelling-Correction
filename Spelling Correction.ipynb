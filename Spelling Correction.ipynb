{
  "nbformat": 4,
  "nbformat_minor": 0,
  "metadata": {
    "colab": {
      "name": "NLPAss.ipynb",
      "provenance": []
    },
    "kernelspec": {
      "name": "python3",
      "display_name": "Python 3"
    },
    "language_info": {
      "name": "python"
    },
    "accelerator": "GPU"
  },
  "cells": [
    {
      "cell_type": "code",
      "metadata": {
        "colab": {
          "base_uri": "https://localhost:8080/"
        },
        "id": "fayqOP9dLd51",
        "outputId": "b2016885-9b7f-4877-a1c5-d0fae1389154"
      },
      "source": [
        "from google.colab import drive\n",
        "drive.mount('/content/drive')"
      ],
      "execution_count": null,
      "outputs": []
    },
    {
      "cell_type": "code",
      "metadata": {
        "colab": {
          "base_uri": "https://localhost:8080/"
        },
        "id": "N48wL33mLrrf",
        "outputId": "e1deb9af-b12d-455b-a917-d4f351bac38c"
      },
      "source": [
        "cd /content/drive/MyDrive/Colab\\ Notebooks/NLP"
      ],
      "execution_count": null,
      "outputs": []
    },
    {
      "cell_type": "code",
      "metadata": {
        "colab": {
          "base_uri": "https://localhost:8080/"
        },
        "id": "u4-JCw2rMGs3",
        "outputId": "3a2b8292-4179-4cf9-d37e-160ad70b784a"
      },
      "source": [
        "cd Spelling Correction"
      ],
      "execution_count": null,
      "outputs": []
    },
    {
      "cell_type": "code",
      "metadata": {
        "colab": {
          "base_uri": "https://localhost:8080/"
        },
        "id": "oAtnEsFFUEPk",
        "outputId": "2e8995d2-c208-4972-cfe2-cfbbc33d9c7b"
      },
      "source": [
        "!pip3 install unidecode"
      ],
      "execution_count": null,
      "outputs": []
    },
    {
      "cell_type": "code",
      "metadata": {
        "colab": {
          "base_uri": "https://localhost:8080/"
        },
        "id": "PmVcYZG1eRPJ",
        "outputId": "64a1059e-5d7c-4f41-d4f9-e128d986e72d"
      },
      "source": [
        " !pip install nltk==3.4"
      ],
      "execution_count": null,
      "outputs": []
    },
    {
      "cell_type": "code",
      "metadata": {
        "colab": {
          "base_uri": "https://localhost:8080/"
        },
        "id": "-2_LM-AbMoyH",
        "outputId": "af186cf9-9cdd-4513-a169-c4ec3b0e156c"
      },
      "source": [
        "!python3 train.py"
      ],
      "execution_count": null,
      "outputs": []
    },
    {
      "cell_type": "code",
      "metadata": {
        "colab": {
          "base_uri": "https://localhost:8080/"
        },
        "id": "AX0fSmUYTLnD",
        "outputId": "786cd143-cc44-451b-95a0-56d2b5a2ef6a"
      },
      "source": [
        "!python3 predict.py"
      ],
      "execution_count": null,
      "outputs": []
    }
  ]
}